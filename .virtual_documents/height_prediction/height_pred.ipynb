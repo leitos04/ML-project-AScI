import numpy as np
import matplotlib.pyplot as plt
%matplotlib inline

import torch
import torchvision
import torchvision.transforms as transforms

import torch.nn as nn
import torch.nn.functional as F
import torch.optim as optim

from pathlib import Path





import torch; torch.manual_seed(0)
import torch.nn as nn
from torch.utils.data import DataLoader

from data import SPMDataset


hdf5_path = '/l/dsh_homo.hdf5'

train_loader = DataLoader(SPMDataset(hdf5_path=hdf5_path,
                                    mode='train',
                                    scan='stm',
                                    height='random'),
                          batch_size=30,
                          shuffle=True)

val_loader = DataLoader(SPMDataset(hdf5_path=hdf5_path,
                                    mode='val',
                                    scan='stm',
                                    height='random',),
                          batch_size=30,
                          shuffle=True)

X, h = next(iter(train_loader))

print("X.shape: ", X.shape) # X: [N, C, nx, ny] Random slice from the STM scan
print("h.shape", h.shape)   # h: [N]            Height of the random slice





import torch
import torch.nn as nn
        
# CREATE YOUR MODEL HERE
# gets as input an STM image [N, C, 128, 128]
# returns height prediction  [N, 1]

class HeightPrediction(nn.Module):
    def __init__(self):
        super().__init__()
        self.conv1 = nn.Conv2d(1, 6, kernel_size=5)
        self.relu = nn.ReLU()
        self.maxpool = nn.MaxPool2d(kernel_size=2, stride=2)
        self.conv2 = nn.Conv2d(6, 16, kernel_size=5)
        self.fc1 = nn.Linear(16 * 4 * 4, 120)
        self.fc2 = nn.Linear(120, 84)
        self.fc3 = nn.Linear(84, 10)
                
    def forward(self, x):
        x = self.conv1(x)
        x = self.relu(x)
        x = self.maxpool(x)
        x = self.conv2(x)
        x = self.relu(x)
        x = self.maxpool(x)
        print(x.shape)
        x = torch.flatten(x, 1)
        x = self.fc1(x)
        x = self.relu(x)
        x = self.fc2(x)
        x = self.relu(x)
        x = self.fc3(x)
        return x


def test_LeNet5_shapes():
    # Feed a batch of images from the training data to test the network
    with torch.no_grad():
        X, h = next(iter(train_loader))
        print('Shape of the input tensor:', X.shape)

        y = net(images)
        assert y.shape == torch.Size([trainloader.batch_size, 10]), "Bad shape of y: y.shape={}".format(y.shape)

    print('Success')

test_LeNet5_shapes()





from models import HeightPrediction


model = HeightPrediction()

for i, batch in enumerate(train_loader):
    X, h = batch
    h = h.unsqueeze(1) # Shape of h is now [N, 1]

    optimizer.zero_grad()
        
    outputs = net(images)
    loss = CEL_loss(outputs, labels)
        
    loss.backward()
    optimizer.step()
        
    if batch%300==0:
        loss, current = loss.item(), batch+1
        
        print(f"Loss:{loss:>5f} [{current:>4d}/{len(trainloader)}]")
            
# train(trainloader, net, CEL_loss, optimizer) #Check the loss



