{
 "cells": [
  {
   "cell_type": "code",
   "execution_count": 2,
   "metadata": {},
   "outputs": [],
   "source": [
    "import numpy as np\n",
    "import matplotlib.pyplot as plt\n",
    "%matplotlib inline\n",
    "\n",
    "import torch\n",
    "import torchvision\n",
    "import torchvision.transforms as transforms\n",
    "\n",
    "import torch.nn as nn\n",
    "import torch.nn.functional as F\n",
    "import torch.optim as optim\n",
    "from torch.utils.data import DataLoader\n",
    "\n",
    "from data import SPMDataset\n",
    "from models import HeightPrediction\n",
    "import contextlib\n",
    "\n",
    "from pathlib import Path"
   ]
  },
  {
   "cell_type": "markdown",
   "metadata": {},
   "source": [
    "## Data Loading"
   ]
  },
  {
   "cell_type": "code",
   "execution_count": 3,
   "metadata": {},
   "outputs": [
    {
     "name": "stdout",
     "output_type": "stream",
     "text": [
      "X.shape:  torch.Size([30, 1, 128, 128])\n",
      "h.shape torch.Size([30])\n"
     ]
    }
   ],
   "source": [
    "hdf5_path = '/l/dsh_homo.hdf5'\n",
    "\n",
    "train_loader = DataLoader(SPMDataset(hdf5_path=hdf5_path,\n",
    "                                    mode='train',\n",
    "                                    scan='stm',\n",
    "                                    height='random'),\n",
    "                          batch_size=30,\n",
    "                          shuffle=True)\n",
    "\n",
    "val_loader = DataLoader(SPMDataset(hdf5_path=hdf5_path,\n",
    "                                    mode='val',\n",
    "                                    scan='stm',\n",
    "                                    height='random',),\n",
    "                          batch_size=30,\n",
    "                          shuffle=True)\n",
    "\n",
    "X, h = next(iter(train_loader))\n",
    "\n",
    "print(\"X.shape: \", X.shape) # X: [N, C, nx, ny] Random slice from the STM scan\n",
    "print(\"h.shape\", h.shape)   # h: [N]            Height of the random slice\n",
    "#print(h)"
   ]
  },
  {
   "cell_type": "markdown",
   "metadata": {},
   "source": [
    "## Model Architecture"
   ]
  },
  {
   "cell_type": "code",
   "execution_count": 4,
   "metadata": {},
   "outputs": [],
   "source": [
    "import torch\n",
    "import torch.nn as nn\n",
    "        \n",
    "# CREATE YOUR MODEL HERE\n",
    "# gets as input an STM image [N, C, 128, 128]\n",
    "# returns height prediction  [N, 1]\n",
    "\n",
    "class HeightPrediction(nn.Module):\n",
    "    def __init__(self):\n",
    "        super().__init__()\n",
    "        self.conv1 = nn.Conv2d(1, 6, kernel_size=5)\n",
    "        self.relu = nn.ReLU()\n",
    "        self.maxpool = nn.MaxPool2d(kernel_size=2, stride=2)\n",
    "        self.conv2 = nn.Conv2d(6, 16, kernel_size=5)\n",
    "        self.fc1 = nn.Linear(16 * 29 * 29, 120)\n",
    "        self.fc2 = nn.Linear(120, 84)\n",
    "        self.fc3 = nn.Linear(84, 1)\n",
    "                \n",
    "    def forward(self, x):\n",
    "        x = self.conv1(x)\n",
    "        x = self.relu(x)\n",
    "        x = self.maxpool(x)\n",
    "        x = self.conv2(x)\n",
    "        x = self.relu(x)\n",
    "        x = self.maxpool(x)\n",
    "        #print(x.shape)\n",
    "        x = torch.flatten(x, 1)\n",
    "        x = self.fc1(x)\n",
    "        x = self.relu(x)\n",
    "        x = self.fc2(x)\n",
    "        x = self.relu(x)\n",
    "        x = self.fc3(x)\n",
    "        return x\n",
    "\n",
    "net = HeightPrediction()"
   ]
  },
  {
   "cell_type": "markdown",
   "metadata": {},
   "source": [
    "## Training Loop"
   ]
  },
  {
   "cell_type": "code",
   "execution_count": 5,
   "metadata": {},
   "outputs": [],
   "source": [
    "from models import HeightPrediction\n",
    "\n",
    "mse_loss = nn.MSELoss()\n",
    "optimizer = optim.Adam(net.parameters(), lr=0.001)"
   ]
  },
  {
   "cell_type": "code",
   "execution_count": 11,
   "metadata": {},
   "outputs": [],
   "source": [
    "def train(dataloader, model, loss, optimizer):\n",
    "    for batch, (X, h) in enumerate(train_loader):\n",
    "        h = h.unsqueeze(1)  # Shape of h is now [N, 1]\n",
    "\n",
    "        optimizer.zero_grad()\n",
    "        outputs = net(X)\n",
    "        loss = mse_loss(outputs, h.float())\n",
    "\n",
    "        loss.backward()\n",
    "        optimizer.step()\n",
    "\n",
    "        if batch % 400 == 0:\n",
    "            loss_value, current = loss.item(), batch+1\n",
    "            print(f\"Loss:{loss_value:>5f} [{current:>4d}/{len(train_loader)}]\")"
   ]
  },
  {
   "cell_type": "code",
   "execution_count": null,
   "metadata": {},
   "outputs": [],
   "source": [
    "#train(train_loader, net, mse_loss, optimizer) #Check the loss"
   ]
  },
  {
   "cell_type": "code",
   "execution_count": 8,
   "metadata": {},
   "outputs": [],
   "source": [
    "#-------------------- This function computes the accuracy on the test dataset\n",
    "\n",
    "def compute_accuracy(testloader, net):\n",
    "    net.eval()\n",
    "    correct = 0\n",
    "    total = 0\n",
    "    with torch.no_grad():\n",
    "        for X, h in testloader:\n",
    "            outputs = net(X)\n",
    "            _, predicted = torch.max(outputs.data, 1)\n",
    "            # print(predicted)\n",
    "            total += h.size(0)\n",
    "            correct += (predicted == h).sum().item()\n",
    "    print(f\"Accuracy: {(correct/total)*100:>0.1f}%\")\n",
    "    return correct / total"
   ]
  }
 ],
 "metadata": {
  "kernelspec": {
   "display_name": "Python 3 (ipykernel)",
   "language": "python",
   "name": "python3"
  },
  "language_info": {
   "codemirror_mode": {
    "name": "ipython",
    "version": 3
   },
   "file_extension": ".py",
   "mimetype": "text/x-python",
   "name": "python",
   "nbconvert_exporter": "python",
   "pygments_lexer": "ipython3",
   "version": "3.8.10"
  }
 },
 "nbformat": 4,
 "nbformat_minor": 5
}
