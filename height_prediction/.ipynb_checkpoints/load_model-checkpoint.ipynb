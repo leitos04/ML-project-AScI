{
 "cells": [
  {
   "cell_type": "code",
   "execution_count": 2,
   "metadata": {},
   "outputs": [],
   "source": [
    "import torch\n",
    "from models import HeightPrediction  # Import your model class\n",
    "\n",
    "# path of .pth model file\n",
    "model_path = \"heigth_pred.pth\""
   ]
  },
  {
   "cell_type": "code",
   "execution_count": null,
   "metadata": {},
   "outputs": [],
   "source": [
    "net = HeightPrediction()\n",
    "\n",
    "# Load the model weights from the .pth file\n",
    "net.load_state_dict(torch.load(model_path))\n",
    "\n",
    "# Set the model to evaluation mode\n",
    "net.eval()"
   ]
  },
  {
   "cell_type": "code",
   "execution_count": null,
   "metadata": {},
   "outputs": [],
   "source": [
    "# Create empty lists to store the ground truth and predicted values\n",
    "ground_truth = []\n",
    "predictions = []\n",
    "\n",
    "# Iterate over the test data\n",
    "with torch.no_grad():\n",
    "    for X, h in test_loader:\n",
    "        # Forward pass to get the model's predictions\n",
    "        outputs = net(X)\n",
    "        predicted = outputs.squeeze().cpu().numpy()  # Convert predictions to numpy array\n",
    "        ground_truth.extend(h.numpy()) \n",
    "        predictions.extend(predicted)"
   ]
  },
  {
   "cell_type": "code",
   "execution_count": null,
   "metadata": {},
   "outputs": [],
   "source": [
    "# Calculate evaluation metrics\n",
    "mse = mean_squared_error(ground_truth, predictions)\n",
    "r2 = r2_score(ground_truth, predictions)\n",
    "\n",
    "# Print the evaluation results\n",
    "print(f\"Mean Squared Error: {mse:.4f}\")\n",
    "print(f\"R^2 Score: {r2:.4f}\")"
   ]
  }
 ],
 "metadata": {
  "kernelspec": {
   "display_name": "Python 3 (ipykernel)",
   "language": "python",
   "name": "python3"
  },
  "language_info": {
   "codemirror_mode": {
    "name": "ipython",
    "version": 3
   },
   "file_extension": ".py",
   "mimetype": "text/x-python",
   "name": "python",
   "nbconvert_exporter": "python",
   "pygments_lexer": "ipython3",
   "version": "3.8.10"
  }
 },
 "nbformat": 4,
 "nbformat_minor": 4
}
