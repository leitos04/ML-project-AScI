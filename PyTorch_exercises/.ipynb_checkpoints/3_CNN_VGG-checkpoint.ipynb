{
 "cells": [
  {
   "cell_type": "markdown",
   "id": "dfa40773-6034-42fb-9584-a1a5f3e99b91",
   "metadata": {},
   "source": [
    "# Exercise 3. Convolutional networks. VGG-style network.\n",
    "\n",
    "You need to train a convolutional neural network with an architecture inspired by a VGG-network [(Simonyan \\& Zisserman, 2015)](https://arxiv.org/abs/1409.1556)."
   ]
  },
  {
   "cell_type": "code",
   "execution_count": 1,
   "id": "67c2b2b4-8c1c-4d62-b3e6-e8368c63503e",
   "metadata": {},
   "outputs": [],
   "source": [
    "skip_training = False  # Set this flag to True before validation and submission"
   ]
  },
  {
   "cell_type": "code",
   "execution_count": 2,
   "id": "8be5ba66-649f-458a-8eb9-1e345fdc6abb",
   "metadata": {},
   "outputs": [],
   "source": [
    "# During evaluation, this cell sets skip_training to True\n",
    "# skip_training = True"
   ]
  },
  {
   "cell_type": "code",
   "execution_count": 3,
   "id": "11d9cc1b-a732-4961-98f8-c5955aceb69f",
   "metadata": {},
   "outputs": [],
   "source": [
    "import os\n",
    "import numpy as np\n",
    "import matplotlib.pyplot as plt\n",
    "%matplotlib inline\n",
    "\n",
    "import torch\n",
    "import torchvision\n",
    "import torchvision.transforms as transforms\n",
    "\n",
    "import torch.nn as nn\n",
    "import torch.nn.functional as F\n",
    "import torch.optim as optim\n",
    "\n",
    "from pathlib import Path"
   ]
  },
  {
   "cell_type": "code",
   "execution_count": 4,
   "id": "3e523053-786d-4ae5-ad5a-aee44500879b",
   "metadata": {},
   "outputs": [],
   "source": [
    "# When running on your own computer, you can specify the data directory by:\n",
    "data_dir = Path('./3_data/')"
   ]
  },
  {
   "cell_type": "code",
   "execution_count": 5,
   "id": "8664e6f4-0f1a-4983-bff6-4714d77adcdb",
   "metadata": {},
   "outputs": [],
   "source": [
    "# Select the device for training (use GPU if you have one)\n",
    "#device = torch.device('cuda:0')\n",
    "device = torch.device('cpu')"
   ]
  },
  {
   "cell_type": "code",
   "execution_count": 6,
   "id": "7fea0712-049c-4579-aca8-058799a19c4f",
   "metadata": {},
   "outputs": [],
   "source": [
    "if skip_training:\n",
    "    # The models are always evaluated on CPU\n",
    "    device = torch.device(\"cpu\")"
   ]
  },
  {
   "cell_type": "markdown",
   "id": "4c2b32a9-2b06-41c3-8544-8fa0731ebf77",
   "metadata": {},
   "source": [
    "## FashionMNIST dataset\n",
    "\n",
    "Let us use the FashionMNIST dataset. It consists of 60,000 training images of 10 classes: 'T-shirt/top', 'Trouser', 'Pullover', 'Dress', 'Coat', 'Sandal', 'Shirt', 'Sneaker', 'Bag', 'Ankle boot'."
   ]
  },
  {
   "cell_type": "code",
   "execution_count": 7,
   "id": "53f3ea5c-6341-4792-bd4d-704b444877c4",
   "metadata": {},
   "outputs": [
    {
     "name": "stderr",
     "output_type": "stream",
     "text": [
      "/home/leonel/.local/lib/python3.8/site-packages/torchvision/datasets/mnist.py:498: UserWarning: The given NumPy array is not writeable, and PyTorch does not support non-writeable tensors. This means you can write to the underlying (supposedly non-writeable) NumPy array using the tensor. You may want to copy the array to protect its data or make it writeable before converting it to a tensor. This type of warning will be suppressed for the rest of this program. (Triggered internally at  ../torch/csrc/utils/tensor_numpy.cpp:180.)\n",
      "  return torch.from_numpy(parsed.astype(m[2], copy=False)).view(*s)\n"
     ]
    }
   ],
   "source": [
    "transform = transforms.Compose([\n",
    "    transforms.ToTensor(),  # Transform to tensor\n",
    "    transforms.Normalize((0.5,), (0.5,))  # Scale images to [-1, 1]\n",
    "])\n",
    "\n",
    "trainset = torchvision.datasets.FashionMNIST(root=data_dir, train=True, download=True, transform=transform) #loading training data \n",
    "testset = torchvision.datasets.FashionMNIST(root=data_dir, train=False, download=True, transform=transform) #loading test data\n",
    "\n",
    "classes = ['T-shirt/top', 'Trouser', 'Pullover', 'Dress', 'Coat', 'Sandal','Shirt', 'Sneaker', 'Bag', 'Ankle boot']\n",
    "\n",
    "#We pass the Dataset as an argument to DataLoader.\n",
    "trainloader = torch.utils.data.DataLoader(trainset, batch_size=32, shuffle=True) # This wraps an iterable over our dataset, and supports automatic batching data loading.\n",
    "# There are 1875 mini batches of size 32.\n",
    "testloader = torch.utils.data.DataLoader(testset, batch_size=5, shuffle=True)\n",
    "# There are 2000 mini batches of size 5."
   ]
  },
  {
   "cell_type": "code",
   "execution_count": 19,
   "id": "2293a448-d5ea-4f82-883c-b8cf5fbda749",
   "metadata": {},
   "outputs": [
    {
     "data": {
      "image/png": "[encoded data removed]",
      "text/plain": [
       "<Figure size 1000x1000 with 8 Axes>"
      ]
     },
     "metadata": {},
     "output_type": "display_data"
    }
   ],
   "source": [
    "images, labels = next(iter(trainloader))\n",
    "\n",
    "def plot_images(images, n_rows):\n",
    "    n_cols = len(images) // n_rows\n",
    "\n",
    "    fig, axes = plt.subplots(n_rows, n_cols, figsize=(10, 10))\n",
    "    axes = axes.flatten()\n",
    "\n",
    "    for img, ax in zip(images, axes):\n",
    "        ax.imshow(np.transpose(img.numpy(), (1, 2, 0)))\n",
    "        ax.axis('off')\n",
    "    plt.subplots_adjust(hspace=-0.65)\n",
    "    plt.show()\n",
    "    \n",
    "plot_images(images[:8], n_rows=2)"
   ]
  },
  {
   "cell_type": "markdown",
   "id": "d25edce6-e4f1-49d4-ba9e-6a282f6b6d91",
   "metadata": {
    "editable": false,
    "nbgrader": {
     "cell_type": "markdown",
     "checksum": "f6cde19253d8a93916505d95820bd979",
     "grade": false,
     "grade_id": "cell-4ab9d042e4edcd54",
     "locked": true,
     "schema_version": 3,
     "solution": false
    }
   },
   "source": [
    "# VGG-style network\n",
    "\n",
    "Let us now define a convolution neural network with an architecture inspired by the [VGG-net](https://arxiv.org/abs/1409.1556).\n",
    "\n",
    "The architecture:\n",
    "- A block of three convolutional layers with:\n",
    "    - 3x3 kernel\n",
    "    - 20 output channels\n",
    "    - one pixel zero-pading on both sides\n",
    "    - 2d batch normalization after each convolutional layer\n",
    "    - ReLU nonlinearity after each 2d batch normalization layer\n",
    "- Max pooling layer with 2x2 kernel and stride 2.\n",
    "- A block of three convolutional layers with:\n",
    "    - 3x3 kernel\n",
    "    - 40 output channels\n",
    "    - one pixel zero-pading on both sides\n",
    "    - 2d batch normalization after each convolutional layer\n",
    "    - ReLU nonlinearity after each 2d batch normalization layer\n",
    "- Max pooling layer with 2x2 kernel and stride 2.\n",
    "- One convolutional layer with:\n",
    "    - 3x3 kernel\n",
    "    - 60 output channels\n",
    "    - *no padding*\n",
    "    - 2d batch normalization after the convolutional layer\n",
    "    - ReLU nonlinearity after the 2d batch normalization layer\n",
    "- One convolutional layer with:\n",
    "    - 1x1 kernel\n",
    "    - 40 output channels\n",
    "    - *no padding*\n",
    "    - 2d batch normalization after the convolutional layer\n",
    "    - ReLU nonlinearity after the 2d batch normalization layer\n",
    "- One convolutional layer with:\n",
    "    - 1x1 kernel\n",
    "    - 20 output channels\n",
    "    - *no padding*\n",
    "    - 2d batch normalization after the convolutional layer\n",
    "    - ReLU nonlinearity after the 2d batch normalization layer\n",
    "- Global average pooling (compute the average value of each channel across all the input locations):\n",
    "    - 5x5 kernel (the input of the layer should be 5x5)\n",
    "- A fully-connected layer with 10 outputs (no nonlinearity)\n",
    "\n",
    "Notes:\n",
    "* Batch normalization is expected to be right after a convolutional layer, before nonlinearity.\n",
    "* We recommend that you check the number of modules with trainable parameters in your network."
   ]
  },
  {
   "cell_type": "code",
   "execution_count": 8,
   "id": "62da3d30-0b4a-4b0d-ac18-1642649798e1",
   "metadata": {},
   "outputs": [],
   "source": [
    "class VGGNet(nn.Module):\n",
    "    def __init__(self):\n",
    "        super(VGGNet, self).__init__()\n",
    "        \n",
    "        # Block 1 - three convolutional layers\n",
    "        \n",
    "        self.conv1 = nn.Conv2d(1, 20, kernel_size=3, padding=1)\n",
    "        self.bn1 = nn.BatchNorm2d(20)\n",
    "        self.relu1 = nn.ReLU(inplace=True)\n",
    "        self.conv2 = nn.Conv2d(20, 20, kernel_size=3, padding=1)\n",
    "        self.bn2 = nn.BatchNorm2d(20)\n",
    "        self.relu2 = nn.ReLU(inplace=True)\n",
    "        self.conv3 = nn.Conv2d(20, 20, kernel_size=3, padding=1)\n",
    "        self.bn3 = nn.BatchNorm2d(20)\n",
    "        self.relu3 = nn.ReLU(inplace=True)\n",
    "        \n",
    "        self.maxpool1 = nn.MaxPool2d(kernel_size=2, stride=2)\n",
    "        \n",
    "        # Block 2 - three convolutional layers\n",
    "        self.conv4 = nn.Conv2d(20, 40, kernel_size=3, padding=1)\n",
    "        self.bn4 = nn.BatchNorm2d(40)\n",
    "        self.relu4 = nn.ReLU(inplace=True)\n",
    "        self.conv5 = nn.Conv2d(40, 40, kernel_size=3, padding=1)\n",
    "        self.bn5 = nn.BatchNorm2d(40)\n",
    "        self.relu5 = nn.ReLU(inplace=True)\n",
    "        self.conv6 = nn.Conv2d(40, 40, kernel_size=3, padding=1)\n",
    "        self.bn6 = nn.BatchNorm2d(40)\n",
    "        self.relu6 = nn.ReLU(inplace=True)\n",
    "        \n",
    "        self.maxpool2 = nn.MaxPool2d(kernel_size=2, stride=2)\n",
    "        \n",
    "        # Block 3 - one convolutional layer\n",
    "        self.conv7 = nn.Conv2d(40, 60, kernel_size=3)\n",
    "        self.bn7 = nn.BatchNorm2d(60)\n",
    "        self.relu7 = nn.ReLU(inplace=True)\n",
    "\n",
    "        # Block 4 - one convolutional layer\n",
    "        self.conv8 = nn.Conv2d(60, 40, kernel_size=1)\n",
    "        self.bn8 = nn.BatchNorm2d(40)\n",
    "        self.relu8 = nn.ReLU(inplace=True)\n",
    "\n",
    "        # Block 5 - one convolutional layer\n",
    "        self.conv9 = nn.Conv2d(40, 20, kernel_size=1)\n",
    "        self.bn9 = nn.BatchNorm2d(20)\n",
    "        self.relu9 = nn.ReLU(inplace=True)\n",
    "        \n",
    "        # Global Average Pooling\n",
    "        self.avgpool = nn.AvgPool2d(kernel_size=5)\n",
    "\n",
    "        # Fully-connected layer\n",
    "        self.fc = nn.Linear(20, 10)\n",
    "        \n",
    "    def forward(self, x, verbose=False):\n",
    "        # Block 1\n",
    "        x = self.conv1(x)\n",
    "        x = self.bn1(x)\n",
    "        x = self.relu1(x)\n",
    "        x = self.conv2(x)\n",
    "        x = self.bn2(x)\n",
    "        x = self.relu2(x)\n",
    "        x = self.conv3(x)\n",
    "        x = self.bn3(x)\n",
    "        x = self.relu3(x)\n",
    "        x = self.maxpool1(x)\n",
    "\n",
    "        # Block 2\n",
    "        x = self.conv4(x)\n",
    "        x = self.bn4(x)\n",
    "        x = self.relu4(x)\n",
    "        x = self.conv5(x)\n",
    "        x = self.bn5(x)\n",
    "        x = self.relu5(x)\n",
    "        x = self.conv6(x)\n",
    "        x = self.bn6(x)\n",
    "        x = self.relu6(x)\n",
    "        x = self.maxpool2(x)\n",
    "\n",
    "        # Block 3\n",
    "        x = self.conv7(x)\n",
    "        x = self.bn7(x)\n",
    "        x = self.relu7(x)\n",
    "        \n",
    "        # Block 4\n",
    "        x = self.conv8(x)\n",
    "        x = self.bn8(x)\n",
    "        x = self.relu8(x)\n",
    "        \n",
    "        # Block 5\n",
    "        x = self.conv9(x)\n",
    "        x = self.bn9(x)\n",
    "        x = self.relu9(x)\n",
    "        \n",
    "        x = self.avgpool(x)\n",
    "        \n",
    "        x = torch.flatten(x, 1)\n",
    "        x = self.fc(x)\n",
    "        \n",
    "        return(x)     \n",
    "\n",
    "net = VGGNet()"
   ]
  },
  {
   "cell_type": "code",
   "execution_count": 9,
   "id": "6d7d8bf8-cf22-4848-b14d-26039babf864",
   "metadata": {},
   "outputs": [
    {
     "name": "stdout",
     "output_type": "stream",
     "text": [
      "Shape of the input tensor: torch.Size([32, 1, 28, 28])\n",
      "Success\n"
     ]
    }
   ],
   "source": [
    "def test_VGGNet_shapes():\n",
    "\n",
    "    # Feed a batch of images from the training data to test the network\n",
    "    with torch.no_grad():\n",
    "        images, labels = next(iter(trainloader))\n",
    "        images = images.to(device)\n",
    "        print('Shape of the input tensor:', images.shape)\n",
    "\n",
    "        y = net(images, verbose=True)\n",
    "        assert y.shape == torch.Size([trainloader.batch_size, 10]), f\"Bad y.shape: {y.shape}\"\n",
    "\n",
    "    print('Success')\n",
    "\n",
    "test_VGGNet_shapes()"
   ]
  },
  {
   "cell_type": "code",
   "execution_count": 10,
   "id": "ea9f14a2-7f1b-4a54-ad8f-663017f6e8b2",
   "metadata": {},
   "outputs": [],
   "source": [
    "# net = VGGNet()\n",
    "\n",
    "# total_params = 0\n",
    "# tab = {}\n",
    "# for name, parameter in net.named_parameters():\n",
    "    # if not parameter.requires_grad: continue\n",
    "    # params = parameter.numel()\n",
    "    # tab[name] = params\n",
    "    # total_params+=params\n",
    "\n",
    "# for n in tab:\n",
    "    # print(f\"Layer: {n}, n_params: {tab[n]}\")\n",
    "\n",
    "# print(f\"Total Trainable Params: {total_params}\")"
   ]
  },
  {
   "cell_type": "code",
   "execution_count": 11,
   "id": "dc4f8955-a380-4aee-aa9c-2c6c188e50be",
   "metadata": {},
   "outputs": [
    {
     "name": "stdout",
     "output_type": "stream",
     "text": [
      "Success\n",
      "[(10,), (10, 20), (20,), (20,), (20,), (20,), (20,), (20,), (20,), (20,), (20,), (20,), (20,), (20,), (20, 1, 3, 3), (20, 20, 3, 3), (20, 20, 3, 3), (20, 40, 1, 1), (40,), (40,), (40,), (40,), (40,), (40,), (40,), (40,), (40,), (40,), (40,), (40,), (40, 20, 3, 3), (40, 40, 3, 3), (40, 40, 3, 3), (40, 60, 1, 1), (60,), (60,), (60,), (60, 40, 3, 3)]\n",
      "Success\n"
     ]
    }
   ],
   "source": [
    "def test_vgg_layers():\n",
    "    net = VGGNet()\n",
    "    n_conv_layers = sum(isinstance(module, nn.Conv2d) for module in net.modules())\n",
    "    assert n_conv_layers == 9, f\"Wrong number of convolutional layers ({n_conv_layers})\"\n",
    "\n",
    "    n_bn_layers = sum(isinstance(module, nn.BatchNorm2d) for module in net.modules())\n",
    "    assert n_bn_layers == 9, f\"Wrong number of batch norm layers ({n_bn_layers})\"\n",
    "\n",
    "    n_linear_layers = sum(isinstance(module, nn.Linear) for module in net.modules())\n",
    "    assert n_linear_layers == 1, f\"Wrong number of linear layers ({n_linear_layers})\"\n",
    "\n",
    "    print('Success')\n",
    "\n",
    "def test_vgg_net():\n",
    "    net = VGGNet()\n",
    "    \n",
    "    # get gradients for parameters in forward path\n",
    "    net.zero_grad()\n",
    "    x = torch.randn(1, 1, 28, 28)\n",
    "    outputs = net(x)\n",
    "    outputs[0,0].backward()\n",
    "    \n",
    "    parameter_shapes = sorted(tuple(p.shape) for p in net.parameters() if p.grad is not None)\n",
    "    print(parameter_shapes)\n",
    "    expected = [\n",
    "        (10,), (10, 20), (20,), (20,), (20,), (20,), (20,), (20,), (20,), (20,), (20,),\n",
    "        (20,), (20,), (20,), (20, 1, 3, 3), (20, 20, 3, 3), (20, 20, 3, 3), (20, 40, 1, 1),\n",
    "        (40,), (40,), (40,), (40,), (40,), (40,), (40,), (40,), (40,), (40,), (40,), (40,),\n",
    "        (40, 20, 3, 3), (40, 40, 3, 3), (40, 40, 3, 3), (40, 60, 1, 1), (60,), (60,), (60,),\n",
    "        (60, 40, 3, 3)]\n",
    "    assert parameter_shapes == expected, \"Wrong number of training parameters.\"\n",
    "    \n",
    "    print('Success')\n",
    "\n",
    "test_vgg_layers()\n",
    "test_vgg_net()"
   ]
  },
  {
   "cell_type": "markdown",
   "id": "2b6f3e39-d839-4aef-b9e0-e985177e51e8",
   "metadata": {
    "editable": false,
    "nbgrader": {
     "cell_type": "markdown",
     "checksum": "c87ccb8eb839f919438ec33b6d8f5e3b",
     "grade": false,
     "grade_id": "cell-6c5c6ddc6d0312e8",
     "locked": true,
     "schema_version": 3,
     "solution": false,
     "task": false
    }
   },
   "source": [
    "# Train the network"
   ]
  },
  {
   "cell_type": "code",
   "execution_count": 12,
   "id": "0c2e8f78-6946-4933-8a21-29f9806a61e3",
   "metadata": {},
   "outputs": [],
   "source": [
    "# This function computes the accuracy on the test dataset\n",
    "def compute_accuracy(testloader, net):\n",
    "    net.eval()\n",
    "    correct = 0\n",
    "    total = 0\n",
    "    with torch.no_grad():\n",
    "        for images, labels in testloader:\n",
    "            images, labels = images.to(device), labels.to(device)\n",
    "            outputs = net(images)\n",
    "            _, predicted = torch.max(outputs.data, 1)\n",
    "            total += labels.size(0)\n",
    "            correct += (predicted == labels).sum().item()\n",
    "    print(f\"Accuracy: {(correct/total)*100:>0.1f}%\")\n",
    "    return correct / total"
   ]
  },
  {
   "cell_type": "markdown",
   "id": "86352ec1-7656-4b0f-9329-70c40efd1b7f",
   "metadata": {
    "editable": false,
    "nbgrader": {
     "cell_type": "markdown",
     "checksum": "e950179b6eff433fd41deb20bf35da9c",
     "grade": false,
     "grade_id": "cell-d168751b85ea2490",
     "locked": true,
     "schema_version": 3,
     "solution": false,
     "task": false
    }
   },
   "source": [
    "### Training loop\n",
    "\n",
    "Your task is to implement the training loop. The recommended hyperparameters:\n",
    "* Adam optimizer with learning rate 0.01.\n",
    "* Cross-entropy loss. Note that we did not use softmax nonlinearity in the final layer of our network. Therefore, we need to use a loss function with log_softmax implemented, such as [`nn.CrossEntropyLoss`](https://pytorch.org/docs/stable/nn.html#torch.nn.CrossEntropyLoss).\n",
    "* Number of epochs: 10\n",
    "\n",
    "We recommend you to use function `compute_accuracy()` defined above to track the accaracy during training. The test accuracy should be above 0.89.\n",
    "\n",
    "**Note: function `compute_accuracy()` sets the network into the evaluation mode which changes the way the batch statistics are computed in batch normalization. You need to set the network into the training mode (by calling `net.train()`) when you want to perform training.**"
   ]
  },
  {
   "cell_type": "code",
   "execution_count": 13,
   "id": "a0e9252c-5556-47c1-9013-e73ce7ab1a36",
   "metadata": {},
   "outputs": [],
   "source": [
    "# Implement the training loop in this cell\n",
    "if not skip_training:\n",
    "    # YOUR CODE HERE\n",
    "    CEL_loss =  nn.CrossEntropyLoss()\n",
    "    optimizer = torch.optim.Adam(net.parameters(), lr=0.01)\n",
    "    \n",
    "    def train(dataloader, model, loss, optimizer):\n",
    "        net.train()\n",
    "        for batch, (images, labels) in enumerate(dataloader):\n",
    "\n",
    "            optimizer.zero_grad()\n",
    "\n",
    "            outputs = net(images)\n",
    "            loss = CEL_loss(outputs, labels)\n",
    "\n",
    "            loss.backward()\n",
    "            optimizer.step()\n",
    "\n",
    "            if batch%300==0:\n",
    "                loss, current = loss.item(), batch+1\n",
    "\n",
    "                print(f\"Loss:{loss:>5f} [{current:>4d}/{len(trainloader)}]\")\n",
    "            \n",
    "# train(trainloader, net, CEL_loss, optimizer) #Check the loss"
   ]
  },
  {
   "cell_type": "code",
   "execution_count": 14,
   "id": "8a1335c1-6379-4d64-b98d-4e8b5e02375b",
   "metadata": {},
   "outputs": [
    {
     "name": "stdout",
     "output_type": "stream",
     "text": [
      "Epoch 1 \n",
      "---------------------\n",
      "Loss:2.322326 [   1/1875]\n",
      "Loss:0.298352 [ 301/1875]\n",
      "Loss:0.447321 [ 601/1875]\n",
      "Loss:0.475844 [ 901/1875]\n",
      "Loss:0.373527 [1201/1875]\n",
      "Loss:0.570009 [1501/1875]\n",
      "Loss:0.236082 [1801/1875]\n",
      "Accuracy: 86.6%\n",
      "Epoch 2 \n",
      "---------------------\n",
      "Loss:0.326622 [   1/1875]\n",
      "Loss:0.194315 [ 301/1875]\n",
      "Loss:0.362075 [ 601/1875]\n",
      "Loss:0.150867 [ 901/1875]\n",
      "Loss:0.313354 [1201/1875]\n",
      "Loss:0.240478 [1501/1875]\n",
      "Loss:0.313609 [1801/1875]\n",
      "Accuracy: 88.8%\n",
      "Epoch 3 \n",
      "---------------------\n",
      "Loss:0.173985 [   1/1875]\n",
      "Loss:0.150222 [ 301/1875]\n",
      "Loss:0.176217 [ 601/1875]\n",
      "Loss:0.234978 [ 901/1875]\n",
      "Loss:0.235090 [1201/1875]\n",
      "Loss:0.302320 [1501/1875]\n",
      "Loss:0.281677 [1801/1875]\n",
      "Accuracy: 90.7%\n",
      "Epoch 4 \n",
      "---------------------\n",
      "Loss:0.136782 [   1/1875]\n",
      "Loss:0.126740 [ 301/1875]\n",
      "Loss:0.201591 [ 601/1875]\n",
      "Loss:0.355940 [ 901/1875]\n",
      "Loss:0.496545 [1201/1875]\n",
      "Loss:0.205371 [1501/1875]\n",
      "Loss:0.084960 [1801/1875]\n",
      "Accuracy: 91.2%\n",
      "Epoch 5 \n",
      "---------------------\n",
      "Loss:0.314658 [   1/1875]\n",
      "Loss:0.060336 [ 301/1875]\n",
      "Loss:0.351069 [ 601/1875]\n",
      "Loss:0.068998 [ 901/1875]\n",
      "Loss:0.178843 [1201/1875]\n",
      "Loss:0.164044 [1501/1875]\n",
      "Loss:0.216328 [1801/1875]\n",
      "Accuracy: 88.0%\n",
      "Epoch 6 \n",
      "---------------------\n",
      "Loss:0.182584 [   1/1875]\n",
      "Loss:0.129279 [ 301/1875]\n",
      "Loss:0.106709 [ 601/1875]\n",
      "Loss:0.453446 [ 901/1875]\n",
      "Loss:0.233062 [1201/1875]\n",
      "Loss:0.283808 [1501/1875]\n",
      "Loss:0.144768 [1801/1875]\n",
      "Accuracy: 91.4%\n",
      "Epoch 7 \n",
      "---------------------\n",
      "Loss:0.067354 [   1/1875]\n",
      "Loss:0.250616 [ 301/1875]\n",
      "Loss:0.165172 [ 601/1875]\n",
      "Loss:0.231336 [ 901/1875]\n",
      "Loss:0.175222 [1201/1875]\n",
      "Loss:0.075958 [1501/1875]\n",
      "Loss:0.229726 [1801/1875]\n",
      "Accuracy: 92.3%\n",
      "Epoch 8 \n",
      "---------------------\n",
      "Loss:0.262352 [   1/1875]\n",
      "Loss:0.046513 [ 301/1875]\n",
      "Loss:0.148367 [ 601/1875]\n",
      "Loss:0.273227 [ 901/1875]\n",
      "Loss:0.247028 [1201/1875]\n",
      "Loss:0.060657 [1501/1875]\n",
      "Loss:0.326652 [1801/1875]\n",
      "Accuracy: 91.9%\n",
      "Epoch 9 \n",
      "---------------------\n",
      "Loss:0.109212 [   1/1875]\n",
      "Loss:0.195816 [ 301/1875]\n",
      "Loss:0.078181 [ 601/1875]\n",
      "Loss:0.090396 [ 901/1875]\n",
      "Loss:0.201612 [1201/1875]\n",
      "Loss:0.080742 [1501/1875]\n",
      "Loss:0.089977 [1801/1875]\n",
      "Accuracy: 92.6%\n",
      "Epoch 10 \n",
      "---------------------\n",
      "Loss:0.053690 [   1/1875]\n",
      "Loss:0.110679 [ 301/1875]\n",
      "Loss:0.098487 [ 601/1875]\n",
      "Loss:0.096263 [ 901/1875]\n",
      "Loss:0.100745 [1201/1875]\n",
      "Loss:0.208153 [1501/1875]\n",
      "Loss:0.143885 [1801/1875]\n",
      "Accuracy: 92.3%\n",
      "DONE\n"
     ]
    }
   ],
   "source": [
    "epochs=10\n",
    "for i in range(epochs):\n",
    "    print(f\"Epoch {i+1} \\n---------------------\")\n",
    "    train(trainloader, net, CEL_loss, optimizer)\n",
    "    compute_accuracy(testloader, net)\n",
    "    \n",
    "print(\"DONE\")"
   ]
  },
  {
   "cell_type": "code",
   "execution_count": 16,
   "id": "4a53ca29-4bcc-426d-b168-1861b8d62930",
   "metadata": {},
   "outputs": [],
   "source": [
    "if not skip_training:\n",
    "    torch.save(net.state_dict(), '3_vgg_net.pth')"
   ]
  },
  {
   "cell_type": "code",
   "execution_count": 17,
   "id": "52c6a041-bb65-45a3-95a1-d008d099431c",
   "metadata": {},
   "outputs": [],
   "source": [
    "if skip_training:\n",
    "    net = LeNet5()\n",
    "    model.load_state_dict(torch.load('2_lenet5.pth'))"
   ]
  },
  {
   "cell_type": "code",
   "execution_count": 21,
   "id": "cb9c5501-004b-4fcb-a604-ab15661c5ace",
   "metadata": {
    "tags": []
   },
   "outputs": [
    {
     "data": {
      "image/png": "[encoded data removed]",
      "text/plain": [
       "<Figure size 1000x1000 with 5 Axes>"
      ]
     },
     "metadata": {},
     "output_type": "display_data"
    },
    {
     "name": "stdout",
     "output_type": "stream",
     "text": [
      "Ground truth labels:         Bag T-shirt/top      Shirt Ankle boot   Pullover\n",
      "Predictions:                 Bag T-shirt/top      Shirt Ankle boot   Pullover\n"
     ]
    }
   ],
   "source": [
    "# Display random images from the test set, the ground truth labels and the network's predictions\n",
    "net.eval()\n",
    "with torch.no_grad():\n",
    "    images, labels = next(iter(testloader))\n",
    "    plot_images(images[:5], n_rows=1)\n",
    "    # Compute predictions\n",
    "    images = images.to(device)\n",
    "    y = net(images)\n",
    "\n",
    "print('Ground truth labels: ', ' '.join('%10s' % classes[labels[j]] for j in range(5)))\n",
    "print('Predictions:         ', ' '.join('%10s' % classes[j] for j in y.argmax(dim=1)))"
   ]
  },
  {
   "cell_type": "code",
   "execution_count": 22,
   "id": "69bf1768-94d5-4cfa-a0d2-e4273e66b947",
   "metadata": {},
   "outputs": [
    {
     "name": "stdout",
     "output_type": "stream",
     "text": [
      "Accuracy: 92.3%\n",
      "Accuracy of the network on the test images: 0.923\n",
      "Success\n"
     ]
    }
   ],
   "source": [
    "# Compute the accuracy on the test set\n",
    "accuracy = compute_accuracy(testloader, net)\n",
    "print('Accuracy of the network on the test images: %.3f' % accuracy)\n",
    "assert accuracy > 0.85, \"Poor accuracy {:.3f}\".format(accuracy)\n",
    "print('Success')"
   ]
  },
  {
   "cell_type": "code",
   "execution_count": null,
   "id": "d0c09e3a-4f3a-4919-8fd9-c5b0491ae77c",
   "metadata": {},
   "outputs": [],
   "source": []
  }
 ],
 "metadata": {
  "kernelspec": {
   "display_name": "Python 3 (ipykernel)",
   "language": "python",
   "name": "python3"
  },
  "language_info": {
   "codemirror_mode": {
    "name": "ipython",
    "version": 3
   },
   "file_extension": ".py",
   "mimetype": "text/x-python",
   "name": "python",
   "nbconvert_exporter": "python",
   "pygments_lexer": "ipython3",
   "version": "3.8.10"
  }
 },
 "nbformat": 4,
 "nbformat_minor": 5
}
