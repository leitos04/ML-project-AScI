{
 "cells": [
  {
   "cell_type": "markdown",
   "id": "a30221ad-c788-40e0-a86f-1fec1f32fc3f",
   "metadata": {},
   "source": [
    "# Exercise 3. Recurrent relational network\n",
    "\n",
    "The goal of this exercise is to get familiar with graph neural networks.\n",
    "\n",
    "We will implement a simplified version of the recurrent relational network proposed in [this paper](http://papers.nips.cc/paper/7597-recurrent-relational-networks.pdf).\n",
    "\n",
    "We recommend you to use a machine with GPU for solving this exercise. Training on CPU will take much much longer."
   ]
  },
  {
   "cell_type": "code",
   "execution_count": 18,
   "id": "2fd74e69-8eb3-43ae-8f03-e49b80b7c4ef",
   "metadata": {},
   "outputs": [],
   "source": [
    "import time\n",
    "import torch\n",
    "import numpy as np\n",
    "import matplotlib.pyplot as plt\n",
    "\n",
    "import torch.nn as nn\n",
    "import torch.nn.functional as F\n",
    "import torch.optim as optim\n",
    "from torch.utils.data import TensorDataset, DataLoader\n",
    "from pathlib import Path\n",
    "import tools"
   ]
  },
  {
   "cell_type": "code",
   "execution_count": 19,
   "id": "7766914c-2578-4d18-8c36-3a1cdccea7d8",
   "metadata": {},
   "outputs": [],
   "source": [
    "# When running on your own computer, you can specify the data directory by:\n",
    "data_dir = Path('./data/sudoku/')"
   ]
  },
  {
   "cell_type": "code",
   "execution_count": 20,
   "id": "37e2c363-506c-48f9-8f69-f23ba69c59af",
   "metadata": {},
   "outputs": [],
   "source": [
    "# Select the device for training (use GPU if you have one)\n",
    "device = torch.device('cuda:0')\n",
    "# device = torch.device('cpu')"
   ]
  },
  {
   "cell_type": "markdown",
   "id": "6c0aee37-7732-4fe9-8ce6-7e318ee37ab7",
   "metadata": {
    "jp-MarkdownHeadingCollapsed": true,
    "tags": []
   },
   "source": [
    "## Data"
   ]
  },
  {
   "cell_type": "markdown",
   "id": "b8e7ddf0-7a02-47e9-a41d-4921483c7bd8",
   "metadata": {},
   "source": [
    "The dataset is a set of sudoku puzzles with solutions obtained from [here](https://github.com/locuslab/SATNet)."
   ]
  },
  {
   "cell_type": "code",
   "execution_count": 21,
   "id": "6f44f99b-4ca2-4925-9feb-777ea58c64c8",
   "metadata": {},
   "outputs": [
    {
     "name": "stdout",
     "output_type": "stream",
     "text": [
      "torch.Size([81, 9]) torch.Size([81])\n"
     ]
    }
   ],
   "source": [
    "import data\n",
    "trainset = data.Sudoku(data_dir, train=True)\n",
    "testset = data.Sudoku(data_dir, train=False)\n",
    "\n",
    "x, y = trainset[0]\n",
    "print(x.shape, y.shape)"
   ]
  },
  {
   "cell_type": "code",
   "execution_count": 58,
   "id": "fd28a579-ac61-42f8-bc72-1863ff27e2a6",
   "metadata": {},
   "outputs": [
    {
     "data": {
      "text/plain": [
       "9000"
      ]
     },
     "execution_count": 58,
     "metadata": {},
     "output_type": "execute_result"
    }
   ],
   "source": [
    "len(trainset)"
   ]
  },
  {
   "cell_type": "code",
   "execution_count": 59,
   "id": "5539341d-8424-4af1-956b-648e19d21f71",
   "metadata": {},
   "outputs": [
    {
     "data": {
      "text/plain": [
       "1000"
      ]
     },
     "execution_count": 59,
     "metadata": {},
     "output_type": "execute_result"
    }
   ],
   "source": [
    "len(testset)"
   ]
  },
  {
   "cell_type": "markdown",
   "id": "e4a67994-da29-4714-ab09-0ad56bacd610",
   "metadata": {
    "jp-MarkdownHeadingCollapsed": true,
    "tags": []
   },
   "source": [
    "## Visualizing the data"
   ]
  },
  {
   "cell_type": "code",
   "execution_count": 22,
   "id": "6194a89a-534c-49de-a9c0-72b2180b2e42",
   "metadata": {},
   "outputs": [],
   "source": [
    "def sudoku_to_labels(x):\n",
    "    \"\"\"Convert one-hot coded sudoku puzzles to labels. -1 corresponds to missing labels.\n",
    "    \n",
    "    Args:\n",
    "      x of shape (n_rows=9, n_colums=9, n_digits=9): Tensor with a sudoku board. The digits are one-hot coded.\n",
    "                  Cells with unknown digits have all zeros along the third dimension.\n",
    "    \"\"\"\n",
    "    assert x.shape == torch.Size([9, 9, 9]), \"Wrong shape {}\".format(x.shape)\n",
    "    is_filled = x.sum(dim=2)\n",
    "    y = x.argmax(dim=2)\n",
    "    y[~is_filled.bool()] = -1\n",
    "    return y"
   ]
  },
  {
   "cell_type": "code",
   "execution_count": 54,
   "id": "988d4b4f-50dd-4ca4-ac42-14fdc01d95b9",
   "metadata": {},
   "outputs": [],
   "source": [
    "x.view(9,9,9);"
   ]
  },
  {
   "cell_type": "code",
   "execution_count": 55,
   "id": "12c7e611-120d-42af-9aa8-27ea4ffd6c58",
   "metadata": {},
   "outputs": [],
   "source": [
    "x.view(9,9,9).sum(dim=2);"
   ]
  },
  {
   "cell_type": "code",
   "execution_count": 56,
   "id": "74bdc8a8-19c0-4efb-8e3f-0107cb2a4983",
   "metadata": {},
   "outputs": [
    {
     "data": {
      "text/plain": [
       "tensor([[5, 6, 0, 0, 0, 0, 0, 0, 4],\n",
       "        [0, 0, 2, 0, 3, 0, 0, 7, 1],\n",
       "        [0, 3, 0, 0, 0, 4, 0, 2, 5],\n",
       "        [0, 0, 0, 6, 2, 0, 0, 8, 0],\n",
       "        [2, 0, 3, 1, 0, 5, 0, 6, 0],\n",
       "        [0, 0, 0, 0, 8, 0, 5, 0, 0],\n",
       "        [4, 0, 8, 0, 0, 7, 0, 0, 0],\n",
       "        [0, 0, 0, 8, 4, 0, 1, 0, 7],\n",
       "        [0, 0, 0, 0, 1, 6, 3, 0, 0]])"
      ]
     },
     "execution_count": 56,
     "metadata": {},
     "output_type": "execute_result"
    }
   ],
   "source": [
    "x.view(9,9,9).argmax(dim=2)"
   ]
  },
  {
   "cell_type": "code",
   "execution_count": 57,
   "id": "7fd26b44-feb7-4cb5-a66a-fbd889f9fede",
   "metadata": {},
   "outputs": [
    {
     "name": "stdout",
     "output_type": "stream",
     "text": [
      "tensor([[ 5,  6, -1, -1, -1, -1, -1, -1,  4],\n",
      "        [-1, -1,  2, -1,  3, -1, -1,  7,  1],\n",
      "        [-1,  3, -1, -1, -1,  4,  0,  2,  5],\n",
      "        [-1, -1, -1,  6,  2, -1, -1,  8, -1],\n",
      "        [ 2, -1,  3,  1, -1,  5, -1,  6, -1],\n",
      "        [-1, -1,  0, -1,  8, -1,  5, -1, -1],\n",
      "        [ 4, -1,  8, -1, -1,  7, -1, -1, -1],\n",
      "        [-1, -1, -1,  8,  4, -1,  1, -1,  7],\n",
      "        [-1, -1, -1,  0,  1,  6,  3, -1, -1]])\n"
     ]
    }
   ],
   "source": [
    "print(sudoku_to_labels(x.view(9, 9, 9)))"
   ]
  },
  {
   "cell_type": "code",
   "execution_count": 32,
   "id": "b86f6edb-f28e-4720-8f64-23e66d37fb1a",
   "metadata": {},
   "outputs": [
    {
     "data": {
      "image/png": "[encoded data removed]",
      "text/plain": [
       "<Figure size 700x700 with 1 Axes>"
      ]
     },
     "metadata": {},
     "output_type": "display_data"
    }
   ],
   "source": [
    "tools.draw_sudoku(x.view(9, 9, 9), logits=False)"
   ]
  },
  {
   "cell_type": "code",
   "execution_count": 43,
   "id": "58e56977-03cb-490c-b890-8f6788bca277",
   "metadata": {},
   "outputs": [
    {
     "data": {
      "text/plain": [
       "tensor([[5, 6, 7, 2, 0, 1, 8, 3, 4],\n",
       "        [0, 4, 2, 5, 3, 8, 6, 7, 1],\n",
       "        [8, 3, 1, 7, 6, 4, 0, 2, 5],\n",
       "        [1, 5, 4, 6, 2, 0, 7, 8, 3],\n",
       "        [2, 8, 3, 1, 7, 5, 4, 6, 0],\n",
       "        [6, 7, 0, 4, 8, 3, 5, 1, 2],\n",
       "        [4, 1, 8, 3, 5, 7, 2, 0, 6],\n",
       "        [3, 0, 6, 8, 4, 2, 1, 5, 7],\n",
       "        [7, 2, 5, 0, 1, 6, 3, 4, 8]])"
      ]
     },
     "execution_count": 43,
     "metadata": {},
     "output_type": "execute_result"
    }
   ],
   "source": [
    "y.view(-1,9)"
   ]
  },
  {
   "cell_type": "markdown",
   "id": "c5a27afb-ede5-4e93-8bbb-5f92b5167f37",
   "metadata": {
    "jp-MarkdownHeadingCollapsed": true,
    "tags": []
   },
   "source": [
    "## Graph"
   ]
  },
  {
   "cell_type": "markdown",
   "id": "0e7d6174-a1a7-451a-b527-b6d88de1bd05",
   "metadata": {},
   "source": [
    "We describe each sudoku puzzle as a graph in which each node corresponds to one of the 9*9=81 cells in the puzzle. Each node is connected to 8+8+8-4=20 other nodes:\n",
    "* 8 nodes that correspond to other cells in the same row\n",
    "* 8 nodes that correspond to other cells in the same column\n",
    "* 8 nodes that correspond to other cells in the same $3\\times 3$ box\n",
    "* 4 cells appear both in a $3\\times 3$ box and in the same row or column.\n",
    "\n",
    "In this exercise, we decribe a graph as a set of edges. Each edge is a pair (`src_id`, `dst_id`) where `src_id` is the id of the source node and `dst_id` is the id of the destination node. In the cell below, your task is to describe such a graph by producing two lists:\n",
    "* a list of source node ids `src_id` of all edges\n",
    "* a list of destination node ids `dst_id` of all edges\n",
    "\n",
    "Notes:\n",
    "\n",
    "* To be consistent with the training data set, we need to use node ids from 0 and 80 according to the following order:\n",
    "```\n",
    "[ 0,  1,  2,  3,  4,  5,  6,  7,  8]\n",
    "[ 9, 10, 11, 12, 13, 14, 15, 16, 17]\n",
    "[18, 19, 20, 21, 22, 23, 24, 25, 26]\n",
    "[27, 28, 29, 30, 31, 32, 33, 34, 35]\n",
    "[36, 37, 38, 39, 40, 41, 42, 43, 44]\n",
    "[45, 46, 47, 48, 49, 50, 51, 52, 53]\n",
    "[54, 55, 56, 57, 58, 59, 60, 61, 62]\n",
    "[63, 64, 65, 66, 67, 68, 69, 70, 71]\n",
    "[72, 73, 74, 75, 76, 77, 78, 79, 80]\n",
    "```\n",
    "* This function is called only once before training. Therefore, you do not need to optimize its execution time."
   ]
  },
  {
   "cell_type": "code",
   "execution_count": 12,
   "id": "ed009c30-6854-47e6-921e-245ceb92c7fe",
   "metadata": {},
   "outputs": [],
   "source": [
    "def sudoku_edges():\n",
    "    src_ids = []\n",
    "    dst_ids = []\n",
    "\n",
    "    # Iterate over each cell in the Sudoku grid\n",
    "    for row in range(9):\n",
    "        for col in range(9):\n",
    "            # Calculate the current cell's ID\n",
    "            cell_id = row * 9 + col\n",
    "\n",
    "            # Connect the cell to other cells in the same row\n",
    "            for c in range(9):\n",
    "                if c != col:\n",
    "                    src_ids.append(cell_id)\n",
    "                    dst_ids.append(row * 9 + c)\n",
    "\n",
    "            # Connect the cell to other cells in the same column\n",
    "            for r in range(9):\n",
    "                if r != row:\n",
    "                    src_ids.append(cell_id)\n",
    "                    dst_ids.append(r * 9 + col)\n",
    "\n",
    "            # Connect the cell to other cells in the same 3x3 box\n",
    "            box_row = (row // 3) * 3\n",
    "            box_col = (col // 3) * 3\n",
    "            for r in range(box_row, box_row + 3):\n",
    "                for c in range(box_col, box_col + 3):\n",
    "                    if r != row and c != col:\n",
    "                        src_ids.append(cell_id)\n",
    "                        dst_ids.append(r * 9 + c)\n",
    "                        \n",
    "    src_ids = torch.tensor(src_ids)\n",
    "    dst_ids = torch.tensor(dst_ids)\n",
    "\n",
    "    return src_ids, dst_ids"
   ]
  },
  {
   "cell_type": "code",
   "execution_count": 13,
   "id": "f08f9723-ad38-4d7e-858a-c31b07744b7a",
   "metadata": {},
   "outputs": [
    {
     "name": "stdout",
     "output_type": "stream",
     "text": [
      "tensor([0, 0, 0, 0, 0, 0, 0, 0, 0, 0, 0, 0, 0, 0, 0, 0, 0, 0, 0, 0])\n",
      "tensor([ 1,  2,  3,  4,  5,  6,  7,  8,  9, 18, 27, 36, 45, 54, 63, 72, 10, 11,\n",
      "        19, 20])\n"
     ]
    }
   ],
   "source": [
    "s, d = sudoku_edges()\n",
    "\n",
    "node_id = 0\n",
    "num_edges = 20\n",
    "\n",
    "print(s[node_id*num_edges:node_id*num_edges+num_edges])\n",
    "print(d[node_id*num_edges:node_id*num_edges+num_edges])"
   ]
  },
  {
   "cell_type": "code",
   "execution_count": 14,
   "id": "b878930f-9cc6-4c6c-849f-fe291d725980",
   "metadata": {},
   "outputs": [
    {
     "name": "stdout",
     "output_type": "stream",
     "text": [
      "Number of edges in each sudoku graph: 1620\n"
     ]
    }
   ],
   "source": [
    "sudoku_src_ids, sudoku_dst_ids = sudoku_edges()\n",
    "print('Number of edges in each sudoku graph: %d' % len(sudoku_src_ids))\n",
    "assert sudoku_src_ids.dtype == torch.long and sudoku_dst_ids.dtype == torch.long\n",
    "assert len(sudoku_src_ids) == len(sudoku_dst_ids), \"The number of source and destination nodes should be same.\"\n",
    "assert len(sudoku_src_ids) == 1620, \"Wrong number of edges ({}), expected: 1620\".format(len(sudoku_src_ids))\n",
    "assert min(sudoku_src_ids) == 0 and max(sudoku_src_ids) == 80, \"Node ids should be between 0 and 80\"\n",
    "assert min(sudoku_dst_ids) == 0 and max(sudoku_dst_ids) == 80, \"Node ids should be between 0 and 80\""
   ]
  },
  {
   "cell_type": "markdown",
   "id": "4a12217c-dab3-483a-9538-d9fcaa2890a1",
   "metadata": {
    "tags": []
   },
   "source": [
    "## Custom data loader"
   ]
  },
  {
   "cell_type": "markdown",
   "id": "8e6cbcd7-8819-4ad9-98d0-752a9039381a",
   "metadata": {},
   "source": [
    "We first create a custom data loader to process a mini-batch of graphs (in parallel) to compute the derivatives wrt the parameters of the graph neural network. To do that, **we transform a mini-batch of graphs to one large graph without interconnecting edges between the subgraphs corresponding to individual examples in the mini-batch.** We do this using a custom collate function that you need to implement in the cell below."
   ]
  },
  {
   "cell_type": "code",
   "execution_count": 29,
   "id": "17929d0b-87d8-4c8c-bc35-fc28dea83e50",
   "metadata": {},
   "outputs": [],
   "source": [
    "def collate(list_of_samples):\n",
    "    \"\"\"Merges a list of samples to form a mini-batch.\n",
    "\n",
    "    Args:\n",
    "      list_of_samples is a list of tuples (inputs, targets),\n",
    "          inputs of shape (n_nodes, 9): Inputs to each node in the graph. Inputs are one-hot coded digits\n",
    "              in the sudoku puzzle. A missing digit is encoded with all zeros. n_nodes=81 for the sudoku graph.\n",
    "          targets of shape (n_nodes): A LongTensor of targets (correct digits in the sudoku puzzle).\n",
    "\n",
    "    Returns:\n",
    "      inputs of shape (batch_size*n_nodes, 9): Inputs to each node in the graph. Inputs are one-hot coded digits\n",
    "          in the sudoku puzzle. A missing digit is encoded with all zeros. n_nodes=81 for the sudoku graph.\n",
    "      targets of shape (batch_size*n_nodes): A LongTensor of targets (correct digits in the sudoku puzzle).\n",
    "      src_ids of shape (batch_size*1620): LongTensor of source node ids for each edge in the large graph.\n",
    "          The source ids should be between 0 and batch_size * 81.\n",
    "      dst_ids of shape (batch_size*1620): LongTensor of destination node ids for each edge in the large graph.\n",
    "          The destination ids should be between 0 and batch_size * 81.\n",
    "    \"\"\"\n",
    "    \n",
    "    inputs_list = []\n",
    "    targets_list = []\n",
    "    lg_src_ids_list = []\n",
    "    lg_dst_ids_list = []\n",
    "    \n",
    "  \n",
    "\n",
    "\n",
    "\n",
    "\n",
    "    return inputs, targets, lg_src_ids, lg_dst_ids"
   ]
  },
  {
   "cell_type": "code",
   "execution_count": null,
   "id": "523f3358-73ec-48a0-a9d8-306b46189a8e",
   "metadata": {},
   "outputs": [],
   "source": [
    "def test_collate_shapes():\n",
    "    batch_size = 2\n",
    "    n_nodes = 81\n",
    "    inputs, targets, src_ids, dst_ids = collate([trainset[0], trainset[1]])\n",
    "    assert inputs.shape == torch.Size([batch_size*n_nodes, 9]), f\"Bad inputs.shape: {inputs.shape}\"\n",
    "    assert targets.shape == torch.Size([batch_size*n_nodes]), f\"Bad targets.shape: {targets.shape}\"\n",
    "    assert src_ids.shape == torch.Size([batch_size*1620]), f\"Bad src_ids.shape: {src_ids.shape}\"\n",
    "    assert dst_ids.shape == torch.Size([batch_size*1620]), f\"Bad dst_ids.shape: {dst_ids.shape}\"\n",
    "    assert min(src_ids) == 0 and max(src_ids) == batch_size*81-1\n",
    "    assert min(dst_ids) == 0 and max(dst_ids) == batch_size*81-1\n",
    "    print('Success')\n",
    "\n",
    "test_collate_shapes();"
   ]
  },
  {
   "cell_type": "code",
   "execution_count": null,
   "id": "d0b4226d-6d30-4486-8d45-5e3128a6f257",
   "metadata": {},
   "outputs": [],
   "source": [
    "trainloader = DataLoader(trainset, batch_size=16, collate_fn=collate, shuffle=True)\n",
    "testloader = DataLoader(testset, batch_size=16, collate_fn=collate, shuffle=False)"
   ]
  },
  {
   "cell_type": "markdown",
   "id": "9f1bec27-c827-427f-92d9-aaf1dd3df2d7",
   "metadata": {
    "tags": []
   },
   "source": [
    "# Graph neural network\n",
    "\n",
    "You need to implement a graph neural network in the cell below. Its forward function consists of `n_iters` iterations with the following steps:\n",
    "* For each node, compute the messages from all its neighbors using the message network (see description below).\n",
    "* For each destination node, aggregate (by summation) all the messages sent by its neighbors. You may find it useful to use function [`index_add_`](https://pytorch.org/docs/stable/tensors.html#torch.Tensor.index_add_) for that.\n",
    "* The aggregated messages are concatenated with the node inputs to form the inputs of the gated recurrent units (GRUs) whose states represent the states of the nodes. The node inputs are one-hot coded digits 1-9 of the sudoku puzzle, a missing digit is encoded with all zeros. \n",
    "* The states of the GRUs are updated using the standard GRU computations.\n",
    "* The states of each graph node are linearly combined to compute the output of the corresponding node at the current iteration.\n",
    "\n",
    "**Note that since we combine all graphs in the mini-batch into a single graph using `collate()` function, we do not need to care about batches in our implementation of GNN.**\n",
    "\n",
    "\n",
    "### Message network\n",
    "\n",
    "* All messages are computed with the same message network (shared parameters).\n",
    "* The message network takes as inputs the states of the source node and the states of the destination node and produces a vector with `n_edge_features`.\n",
    "* We used as the message network a multilayer perceptron (MLP) network with the following architecture:\n",
    "  * hidden layer with 96 neurons and ReLU nonlinearity\n",
    "  * hidden layer with 96 neurons and ReLU nonlinearity\n",
    "  * output layer with `n_edge_features` output features.\n",
    "* **Important:** Our tests assume that the message network is defined as an attribute called `msg_net`, that is it can be accessed as follows:\n",
    "```\n",
    "gnn = GNN()\n",
    "print(gnn.msg_net)\n",
    "```\n",
    "\n",
    "Notes:\n",
    "\n",
    "* Please initialize the node states (before the first iteration) with all zeros.\n",
    "* The messages computed in the first iteration are not informative because they combine zero states.\n",
    "* For faster training, try to minimize the number of for-loops in your implementation.\n",
    "* **Your implementation of the GNN should work with any graph topologies, not necessarily sudoku. Please do not assume any dimensions specific to the sudoku graph.**"
   ]
  },
  {
   "cell_type": "code",
   "execution_count": null,
   "id": "91b50722-0506-4ad7-b950-3fe822850b92",
   "metadata": {
    "editable": true,
    "nbgrader": {
     "cell_type": "code",
     "checksum": "380031a1cdb3b9f3802523ea06044814",
     "grade": false,
     "grade_id": "GNN",
     "locked": false,
     "schema_version": 3,
     "solution": true,
     "task": false
    },
    "slideshow": {
     "slide_type": ""
    },
    "tags": []
   },
   "outputs": [],
   "source": [
    "class GNN(nn.Module):\n",
    "    def __init__(self, n_iters=7, n_node_features=10, n_node_inputs=9, n_edge_features=11, n_node_outputs=9):\n",
    "        \"\"\"\n",
    "        Args:\n",
    "          n_iters: Number of graph iterations.\n",
    "          n_node_features: Number of features in the states of each node.\n",
    "          n_node_inputs: Number of inputs to each graph node (on each graph iteration).\n",
    "          n_edge_features: Number of features in the messages sent along the edges of the graph (produced\n",
    "              by the message network).\n",
    "          n_node_outputs: Number of outputs produced by at each node of the graph.\n",
    "        \"\"\"\n",
    "        super(GNN, self).__init__()\n",
    "        \n",
    "        self.n_iters = n_iters\n",
    "        self.n_node_features = n_node_features\n",
    "        self.n_node_inputs = n_node_inputs\n",
    "        self.n_edge_features = n_edge_features\n",
    "        self.n_node_outputs = n_node_outputs\n",
    "        \n",
    "        # YOUR CODE HERE\n",
    "        \n",
    "        \n",
    "    def forward(self, node_inputs, src_ids, dst_ids):\n",
    "        \"\"\"\n",
    "        Args:\n",
    "          node_inputs of shape (n_nodes, n_node_inputs): Tensor of inputs to every node of the graph.\n",
    "          src_ids of shape (n_edges): Indices of source nodes of every edge.\n",
    "          dst_ids of shape (n_edges): Indices of destination nodes of every edge.\n",
    "          \n",
    "        Returns:\n",
    "          outputs of shape (n_iters, n_nodes, n_node_outputs): Outputs of all the nodes at every iteration of the\n",
    "              graph neural network.\n",
    "        \"\"\"\n",
    "        # YOUR CODE HERE\n",
    "        \n",
    "        return output\n",
    "            "
   ]
  },
  {
   "cell_type": "code",
   "execution_count": null,
   "id": "bac42459-1f11-472f-a634-66a038719d75",
   "metadata": {
    "editable": false,
    "nbgrader": {
     "cell_type": "code",
     "checksum": "ba83789d568c16e73add8dc76670ad98",
     "grade": false,
     "grade_id": "cell-11a931a6dc00b460",
     "locked": true,
     "schema_version": 3,
     "solution": false,
     "task": false
    },
    "slideshow": {
     "slide_type": ""
    },
    "tags": []
   },
   "outputs": [],
   "source": [
    "# Shape tests of the message network\n",
    "def test_GNN_msg_net():\n",
    "    src_ids, dst_ids = sudoku_edges()\n",
    "    src_ids, dst_ids = torch.LongTensor(src_ids), torch.LongTensor(dst_ids)\n",
    "    n_nodes = 81\n",
    "    n_edges = len(src_ids)\n",
    "    n_node_features = 5\n",
    "    n_edge_features = 6\n",
    "\n",
    "    gnn = GNN(n_iters=7, n_node_features=n_node_features, n_edge_features=n_edge_features)\n",
    "    msg_net_inputs = torch.zeros(n_edges, 2*n_node_features)\n",
    "    assert hasattr(gnn, 'msg_net'), \"Cannot find the message network.\"\n",
    "    messages = gnn.msg_net(msg_net_inputs)  # [n_edges, n_edge_features]\n",
    "    assert messages.shape == torch.Size([n_edges, n_edge_features]), f\"Bad messages.shape: {messages.shape}\"\n",
    "    print('Success')\n",
    "\n",
    "test_GNN_msg_net()"
   ]
  },
  {
   "cell_type": "code",
   "execution_count": null,
   "id": "6c5ee1f6-9561-4f2c-bd2d-ab6033998fad",
   "metadata": {
    "editable": false,
    "nbgrader": {
     "cell_type": "code",
     "checksum": "82daac8447833ccfcb74b45fb82b6e76",
     "grade": false,
     "grade_id": "cell-6e6ddbc2c5573e68",
     "locked": true,
     "schema_version": 3,
     "solution": false,
     "task": false
    },
    "slideshow": {
     "slide_type": ""
    },
    "tags": []
   },
   "outputs": [],
   "source": [
    "# Shape tests\n",
    "def test_GNN_shape():\n",
    "    src_ids, dst_ids = sudoku_edges()\n",
    "    src_ids, dst_ids = torch.LongTensor(src_ids), torch.LongTensor(dst_ids)\n",
    "    n_nodes = 81\n",
    "\n",
    "    gnn = GNN(n_iters=7)\n",
    "    node_inputs = torch.zeros([n_nodes, 9])\n",
    "    outputs = gnn(node_inputs, src_ids, dst_ids)  # [n_iters, batch*n_nodes, 9]\n",
    "    assert outputs.shape == torch.Size([gnn.n_iters, n_nodes, 9]), f\"Bad outputs.shape: {outputs.shape}\"\n",
    "    print('Success')\n",
    "\n",
    "test_GNN_shape()"
   ]
  },
  {
   "cell_type": "markdown",
   "id": "00469bf1-049d-4d56-84b2-69ffd511b171",
   "metadata": {
    "editable": false,
    "nbgrader": {
     "cell_type": "markdown",
     "checksum": "d1bd48c6aa150d63000c006bdea924c6",
     "grade": false,
     "grade_id": "cell-7ade147639f9842c",
     "locked": true,
     "schema_version": 3,
     "solution": false,
     "task": false
    },
    "slideshow": {
     "slide_type": ""
    },
    "tags": []
   },
   "source": [
    "## Train the network"
   ]
  },
  {
   "cell_type": "markdown",
   "id": "e86bbab5-cfb5-4c2b-b2fc-f1ddd8d0b19e",
   "metadata": {
    "editable": false,
    "nbgrader": {
     "cell_type": "markdown",
     "checksum": "c9d9eb5aa6874ce9ed806494adefd69f",
     "grade": false,
     "grade_id": "cell-329b929c7fb52923",
     "locked": true,
     "schema_version": 3,
     "solution": false,
     "task": false
    },
    "slideshow": {
     "slide_type": ""
    },
    "tags": []
   },
   "source": [
    "### Training loop\n",
    "\n",
    "Your task is to implement the training loop. The recommended hyperparameters:\n",
    "* Adam optimizer with learning rate 0.001\n",
    "* 30 epochs is usually enough for training to converge.\n",
    "* The loss should be the mean of the classification losses computed at **every** GNN iteration. This way you encourage the GNN to find the correct solution with as few iterations as possible.\n",
    "\n",
    "Hints:\n",
    "* The training loss at convergence can reach 0.25. The classification loss computed after the **last** GNN iteration should be close to 0.\n",
    "* The fraction of solved test puzzles is usually close to 1 (we will use the threshold of 0.93 in the tests).\n",
    "* We recommend you to track the fraction of solved puzzles in the test set using the function below."
   ]
  },
  {
   "cell_type": "code",
   "execution_count": null,
   "id": "8cf2ef48-9b90-46ff-a91a-3dee9a524039",
   "metadata": {
    "editable": false,
    "nbgrader": {
     "cell_type": "code",
     "checksum": "f136befec210d74c77cdb29f0be2b953",
     "grade": false,
     "grade_id": "cell-1a6cd2d477b9cf68",
     "locked": true,
     "schema_version": 3,
     "solution": false,
     "task": false
    },
    "slideshow": {
     "slide_type": ""
    },
    "tags": []
   },
   "outputs": [],
   "source": [
    "# Create network\n",
    "gnn = GNN()\n",
    "gnn.to(device)"
   ]
  },
  {
   "cell_type": "code",
   "execution_count": null,
   "id": "a3921111-cb7c-4cb3-8577-a3ec21879141",
   "metadata": {
    "editable": true,
    "nbgrader": {
     "cell_type": "code",
     "checksum": "cc19846a8d8839a111f004d38b6dc7af",
     "grade": false,
     "grade_id": "training_loop",
     "locked": false,
     "schema_version": 3,
     "solution": true,
     "task": false
    },
    "slideshow": {
     "slide_type": ""
    },
    "tags": []
   },
   "outputs": [],
   "source": [
    "# Implement the training loop here\n",
    "if not skip_training:\n",
    "    # YOUR CODE HERE\n"
   ]
  },
  {
   "cell_type": "markdown",
   "id": "a44d132f-969f-4be9-ba01-f859b52b1aab",
   "metadata": {
    "editable": false,
    "nbgrader": {
     "cell_type": "markdown",
     "checksum": "3612e3450979bdecf32aae43ff0b434f",
     "grade": false,
     "grade_id": "cell-3f1e85b8a2af78bb",
     "locked": true,
     "schema_version": 3,
     "solution": false,
     "task": false
    },
    "slideshow": {
     "slide_type": ""
    },
    "tags": []
   },
   "source": [
    "## Evaluate the trained model"
   ]
  },
  {
   "cell_type": "code",
   "execution_count": null,
   "id": "d44768a7-c529-42a6-911c-7d38529d69ef",
   "metadata": {
    "editable": false,
    "nbgrader": {
     "cell_type": "code",
     "checksum": "73435e67216769af33707a90cf811590",
     "grade": false,
     "grade_id": "cell-32f91b6a282d0245",
     "locked": true,
     "schema_version": 3,
     "solution": false,
     "task": false
    },
    "slideshow": {
     "slide_type": ""
    },
    "tags": []
   },
   "outputs": [],
   "source": [
    "# Get graph iterations for some test puzzles\n",
    "with torch.no_grad():\n",
    "    inputs, targets, src_ids, dst_ids = iter(testloader).next()\n",
    "    inputs, targets = inputs.to(device), targets.to(device)\n",
    "    src_ids, dst_ids = src_ids.to(device), dst_ids.to(device)\n",
    "\n",
    "    batch_size = inputs.size(0) // 81\n",
    "    outputs = gnn(inputs, src_ids, dst_ids)  # [n_iters, n_nodes, 9]\n",
    "\n",
    "    solution = outputs.view(gnn.n_iters, batch_size, 9, 9, 9)\n",
    "    final_solution = solution[-1].argmax(dim=3)\n",
    "    print('Solved puzzles in the current mini-batch:')\n",
    "    print((final_solution.view(-1, 81) == targets.view(batch_size, 81)).all(dim=1))"
   ]
  },
  {
   "cell_type": "code",
   "execution_count": null,
   "id": "e55b007c-5c2c-4a2d-a6b1-7706f4e30a42",
   "metadata": {
    "editable": false,
    "nbgrader": {
     "cell_type": "code",
     "checksum": "92d62e9db18cb4f608d557bf65ce095f",
     "grade": false,
     "grade_id": "cell-f26db64afdc81028",
     "locked": true,
     "schema_version": 3,
     "solution": false,
     "task": false
    },
    "slideshow": {
     "slide_type": ""
    },
    "tags": []
   },
   "outputs": [],
   "source": [
    "# Visualize graph iteration for one of the puzzles\n",
    "ix = 0\n",
    "for i in range(gnn.n_iters):\n",
    "    tools.draw_sudoku(solution[i, 0], logits=True)"
   ]
  },
  {
   "cell_type": "code",
   "execution_count": null,
   "id": "d700c70e-a68b-49a9-8473-cdcdeef1dd8b",
   "metadata": {
    "editable": false,
    "nbgrader": {
     "cell_type": "code",
     "checksum": "982ffeac4103b130438a496d82a3b63f",
     "grade": true,
     "grade_id": "accuracy",
     "locked": true,
     "points": 4,
     "schema_version": 3,
     "solution": false,
     "task": false
    },
    "slideshow": {
     "slide_type": ""
    },
    "tags": []
   },
   "outputs": [],
   "source": [
    "fraction_solved = fraction_of_solved_puzzles(gnn, testloader)\n",
    "print(fraction_solved)\n",
    "assert fraction_solved > .93, \"Poor accuracy ({:.3f})\".format(fraction_solved)\n",
    "print('Success')"
   ]
  },
  {
   "cell_type": "markdown",
   "id": "f13d6070-7485-42d7-880d-c3d23b389508",
   "metadata": {},
   "source": [
    "In this exercise, we learned how to train a simple graph neural network.\n",
    "\n",
    "Note that the network learned to solve Sudoku puzzles without being explicitly told about the rules of the game. It learned to solve the puzzle from the training examples. We helped the network by telling which objects (cells) are related to each other but we did not specify the exact type of the relations."
   ]
  },
  {
   "cell_type": "code",
   "execution_count": null,
   "id": "d02c03c9-e504-4d66-ac5d-b2cf40affc90",
   "metadata": {},
   "outputs": [],
   "source": []
  }
 ],
 "metadata": {
  "kernelspec": {
   "display_name": "Python 3 (ipykernel)",
   "language": "python",
   "name": "python3"
  },
  "language_info": {
   "codemirror_mode": {
    "name": "ipython",
    "version": 3
   },
   "file_extension": ".py",
   "mimetype": "text/x-python",
   "name": "python",
   "nbconvert_exporter": "python",
   "pygments_lexer": "ipython3",
   "version": "3.8.10"
  }
 },
 "nbformat": 4,
 "nbformat_minor": 5
}
